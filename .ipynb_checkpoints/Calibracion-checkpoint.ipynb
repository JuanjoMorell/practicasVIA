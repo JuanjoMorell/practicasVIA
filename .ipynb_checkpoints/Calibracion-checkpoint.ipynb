{
 "cells": [
  {
   "cell_type": "markdown",
   "metadata": {},
   "source": [
    "**CALIBRACIÓN**\n"
   ]
  },
  {
   "cell_type": "code",
   "execution_count": 15,
   "metadata": {},
   "outputs": [
    {
     "name": "stdout",
     "output_type": "stream",
     "text": [
      "/home/juanjo/workspace/umucv/code\n"
     ]
    }
   ],
   "source": [
    "cd /home/juanjo/workspace/umucv/code"
   ]
  },
  {
   "cell_type": "code",
   "execution_count": 37,
   "metadata": {},
   "outputs": [
    {
     "name": "stdout",
     "output_type": "stream",
     "text": [
      "640x480 30.0fps\n",
      "Gtk-\u001b[1;32mMessage\u001b[0m: \u001b[34m11:38:15.033\u001b[0m: Failed to load module \"atk-bridge\"\n",
      "Gtk-\u001b[1;32mMessage\u001b[0m: \u001b[34m11:38:15.035\u001b[0m: Failed to load module \"canberra-gtk-module\"\n"
     ]
    }
   ],
   "source": [
    "! python stream.py --dev=4"
   ]
  },
  {
   "cell_type": "code",
   "execution_count": 38,
   "metadata": {},
   "outputs": [
    {
     "name": "stdout",
     "output_type": "stream",
     "text": [
      "processing ../Practicas/cam/20210321-113839.png...\r\n",
      "ok\r\n",
      "RMS: 0.07056619347305547\r\n",
      "camera matrix:\r\n",
      " [[417.07162981   0.         310.98136052]\r\n",
      " [  0.         416.70667229 247.83116092]\r\n",
      " [  0.           0.           1.        ]]\r\n",
      "distortion coefficients:  [ 1.79981576e-01 -5.64329180e-01 -3.06243790e-03 -6.52323286e-04\r\n",
      "  1.16065268e+00]\r\n"
     ]
    }
   ],
   "source": [
    "! python calibrate/calibrate.py ../Practicas/cam/*"
   ]
  },
  {
   "cell_type": "code",
   "execution_count": null,
   "metadata": {},
   "outputs": [],
   "source": [
    "import numpy as np\n",
    "import cv2   as cv\n",
    "\n",
    "K= np.array([[ 417.07162981,    0.,          310.98136052],\n",
    "             [   0.,          416.70667229,  247.83116092],\n",
    "             [   0.,            0.,            1.        ]])\n",
    "d = np.array([ 0.179981576,  -0.56432918,  -3.06243790e-03, -3.06243790e-03,  -6.52323286e-04])\n",
    "\n",
    "img = cv.imread(\"../Practicas/cam/20210321-113839.png\")\n",
    "h, w = img.shape[:2]\n",
    "\n",
    "# undistort\n",
    "newcamera, roi = cv.getOptimalNewCameraMatrix(K, d, (w,h), 0) \n",
    "newimg = cv.undistort(img, K, d, None, newcamera)\n",
    "newimg2 = cv.undistort(img, K, d, None)\n",
    "newimg3 = cv.undistort(img, K, d, None, np.array([[320*1.7,0,320],[0,320*1.7,240],[0,0,1]]))\n",
    "\n",
    "print(newcamera)\n",
    "print(roi)\n",
    "\n",
    "if True:\n",
    "    cv.imwrite(\"original.jpg\", img)\n",
    "    cv.imwrite(\"undistorted.jpg\", newimg)\n",
    "    cv.imwrite(\"undistorted2.jpg\", newimg2)\n",
    "    cv.imwrite(\"undistorted3.jpg\", newimg3)\n"
   ]
  }
 ],
 "metadata": {
  "kernelspec": {
   "display_name": "Python 3",
   "language": "python",
   "name": "python3"
  },
  "language_info": {
   "codemirror_mode": {
    "name": "ipython",
    "version": 3
   },
   "file_extension": ".py",
   "mimetype": "text/x-python",
   "name": "python",
   "nbconvert_exporter": "python",
   "pygments_lexer": "ipython3",
   "version": "3.6.4"
  }
 },
 "nbformat": 4,
 "nbformat_minor": 2
}
