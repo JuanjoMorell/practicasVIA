{
 "cells": [
  {
   "cell_type": "code",
   "execution_count": null,
   "metadata": {},
   "outputs": [],
   "source": [
    "# Seleccion ROI\n",
    "import numpy as np\n",
    "import cv2 as cv\n",
    "\n",
    "from umucv.util import ROI, putText\n",
    "from umucv.stream import autoStream\n",
    "\n",
    "\n",
    "cv.namedWindow(\"input\")\n",
    "cv.moveWindow('input', 0, 0)\n",
    "\n",
    "region = ROI(\"input\")\n",
    "\n",
    "\n",
    "for key, frame in autoStream():\n",
    "    \n",
    "    if region.roi:\n",
    "        [x1,y1,x2,y2] = region.roi\n",
    "        if key == ord('c'):\n",
    "            trozo = frame[y1:y2+1, x1:x2+1]\n",
    "            cv.imshow(\"trozo\", trozo)\n",
    "        if key == ord('x'):\n",
    "            region.roi = []\n",
    "\n",
    "        cv.rectangle(frame, (x1,y1), (x2,y2), color=(0,255,255), thickness=2)\n",
    "        putText(frame, f'{x2-x1+1}x{y2-y1+1}', orig=(x1,y1-8))\n",
    "\n",
    "   \n",
    "\n",
    "    h,w,_ = frame.shape\n",
    "    putText(frame, f'{w}x{h}')\n",
    "    cv.imshow('input',frame)\n",
    "\n"
   ]
  }
 ],
 "metadata": {
  "kernelspec": {
   "display_name": "Python 3",
   "language": "python",
   "name": "python3"
  },
  "language_info": {
   "codemirror_mode": {
    "name": "ipython",
    "version": 3
   },
   "file_extension": ".py",
   "mimetype": "text/x-python",
   "name": "python",
   "nbconvert_exporter": "python",
   "pygments_lexer": "ipython3",
   "version": "3.6.4"
  }
 },
 "nbformat": 4,
 "nbformat_minor": 2
}
